{
 "cells": [
  {
   "cell_type": "code",
   "execution_count": 3,
   "id": "f6cafef1",
   "metadata": {},
   "outputs": [
    {
     "name": "stderr",
     "output_type": "stream",
     "text": [
      "2023-11-07 09:48:42.820430: I tensorflow/tsl/cuda/cudart_stub.cc:28] Could not find cuda drivers on your machine, GPU will not be used.\n",
      "2023-11-07 09:48:42.852911: E tensorflow/compiler/xla/stream_executor/cuda/cuda_dnn.cc:9342] Unable to register cuDNN factory: Attempting to register factory for plugin cuDNN when one has already been registered\n",
      "2023-11-07 09:48:42.852949: E tensorflow/compiler/xla/stream_executor/cuda/cuda_fft.cc:609] Unable to register cuFFT factory: Attempting to register factory for plugin cuFFT when one has already been registered\n",
      "2023-11-07 09:48:42.852982: E tensorflow/compiler/xla/stream_executor/cuda/cuda_blas.cc:1518] Unable to register cuBLAS factory: Attempting to register factory for plugin cuBLAS when one has already been registered\n",
      "2023-11-07 09:48:42.859997: I tensorflow/tsl/cuda/cudart_stub.cc:28] Could not find cuda drivers on your machine, GPU will not be used.\n",
      "2023-11-07 09:48:42.860842: I tensorflow/core/platform/cpu_feature_guard.cc:182] This TensorFlow binary is optimized to use available CPU instructions in performance-critical operations.\n",
      "To enable the following instructions: AVX2 FMA, in other operations, rebuild TensorFlow with the appropriate compiler flags.\n",
      "2023-11-07 09:48:43.934972: W tensorflow/compiler/tf2tensorrt/utils/py_utils.cc:38] TF-TRT Warning: Could not find TensorRT\n"
     ]
    }
   ],
   "source": [
    "# Importing Libraries\n",
    "import os\n",
    "import numpy as np\n",
    "import matplotlib.pyplot as plt\n",
    "import keras\n",
    "from keras.models import Sequential\n",
    "from keras.layers import Dense, Conv2D, MaxPooling2D, Dropout, Flatten, Activation\n",
    "from keras.preprocessing.image import ImageDataGenerator"
   ]
  },
  {
   "cell_type": "code",
   "execution_count": 4,
   "id": "4b03554a",
   "metadata": {},
   "outputs": [],
   "source": [
    "# Setting the Path\n",
    "path = 'CT_images'"
   ]
  },
  {
   "cell_type": "code",
   "execution_count": 5,
   "id": "843005e7",
   "metadata": {},
   "outputs": [],
   "source": [
    "# Loading the images\n",
    "train_data_dir = os.path.join(path, 'Train')\n",
    "test_data_dir = os.path.join(path, 'Test')"
   ]
  },
  {
   "cell_type": "code",
   "execution_count": 6,
   "id": "b1828c21",
   "metadata": {},
   "outputs": [],
   "source": [
    "# Image Preprocessing\n",
    "train_datagen = ImageDataGenerator(rescale=1./255)\n",
    "test_datagen = ImageDataGenerator(rescale=1./255)"
   ]
  },
  {
   "cell_type": "code",
   "execution_count": 7,
   "id": "4b0c3ad3",
   "metadata": {},
   "outputs": [
    {
     "name": "stdout",
     "output_type": "stream",
     "text": [
      "Found 3000 images belonging to 2 classes.\n",
      "Found 900 images belonging to 2 classes.\n"
     ]
    }
   ],
   "source": [
    "# Training the Model\n",
    "train_generator = train_datagen.flow_from_directory(\n",
    "    train_data_dir,\n",
    "    target_size=(150,150),\n",
    "    batch_size=32,\n",
    "    class_mode='binary')\n",
    "\n",
    "test_generator = test_datagen.flow_from_directory(\n",
    "    test_data_dir,\n",
    "    target_size=(150,150),\n",
    "    batch_size=32,\n",
    "    class_mode='binary',\n",
    "    shuffle=False\n",
    "    )"
   ]
  },
  {
   "cell_type": "code",
   "execution_count": 8,
   "id": "0fb3babe",
   "metadata": {},
   "outputs": [],
   "source": [
    "model = Sequential()\n",
    "\n",
    "#Adding convolutional layers\n",
    "model.add(Conv2D(32, (3, 3), input_shape=(150, 150, 3)))\n",
    "model.add(Activation('relu'))\n",
    "model.add(MaxPooling2D(pool_size=(2, 2)))\n",
    "\n",
    "#Adding a second convolutional layer\n",
    "model.add(Conv2D(32, (3, 3)))\n",
    "model.add(Activation('relu'))\n",
    "model.add(MaxPooling2D(pool_size=(2, 2)))\n",
    "\n",
    "\n",
    "model.add(Flatten())  # this converts our feature maps to 1D feature vectors\n",
    "model.add(Dense(64))\n",
    "model.add(Activation('relu'))\n",
    "model.add(Dropout(0.5))\n",
    "model.add(Dense(1))\n",
    "model.add(Activation('sigmoid'))"
   ]
  },
  {
   "cell_type": "code",
   "execution_count": 9,
   "id": "9b4334bf",
   "metadata": {},
   "outputs": [],
   "source": [
    "# Compiling the model\n",
    "model.compile(loss='binary_crossentropy',\n",
    "              optimizer='adam',\n",
    "              metrics=['accuracy'])"
   ]
  },
  {
   "cell_type": "code",
   "execution_count": 10,
   "id": "3116fed5",
   "metadata": {},
   "outputs": [
    {
     "name": "stdout",
     "output_type": "stream",
     "text": [
      "Epoch 1/38\n"
     ]
    },
    {
     "name": "stderr",
     "output_type": "stream",
     "text": [
      "2023-11-07 09:49:39.499511: W tensorflow/tsl/framework/cpu_allocator_impl.cc:83] Allocation of 89718784 exceeds 10% of free system memory.\n"
     ]
    },
    {
     "name": "stdout",
     "output_type": "stream",
     "text": [
      " 1/32 [..............................] - ETA: 33s - loss: 0.7023 - accuracy: 0.3125"
     ]
    },
    {
     "name": "stderr",
     "output_type": "stream",
     "text": [
      "2023-11-07 09:49:39.721513: W tensorflow/tsl/framework/cpu_allocator_impl.cc:83] Allocation of 44859392 exceeds 10% of free system memory.\n",
      "2023-11-07 09:49:39.721593: W tensorflow/tsl/framework/cpu_allocator_impl.cc:83] Allocation of 89718784 exceeds 10% of free system memory.\n",
      "2023-11-07 09:49:39.863631: W tensorflow/tsl/framework/cpu_allocator_impl.cc:83] Allocation of 89718784 exceeds 10% of free system memory.\n"
     ]
    },
    {
     "name": "stdout",
     "output_type": "stream",
     "text": [
      " 2/32 [>.............................] - ETA: 9s - loss: 0.8670 - accuracy: 0.4844 "
     ]
    },
    {
     "name": "stderr",
     "output_type": "stream",
     "text": [
      "2023-11-07 09:49:40.043828: W tensorflow/tsl/framework/cpu_allocator_impl.cc:83] Allocation of 44859392 exceeds 10% of free system memory.\n"
     ]
    },
    {
     "name": "stdout",
     "output_type": "stream",
     "text": [
      "32/32 [==============================] - ETA: 0s - loss: 0.4808 - accuracy: 0.7520WARNING:tensorflow:Your input ran out of data; interrupting training. Make sure that your dataset or generator can generate at least `steps_per_epoch * epochs` batches (in this case, 32 batches). You may need to use the repeat() function when building your dataset.\n",
      "32/32 [==============================] - 13s 370ms/step - loss: 0.4808 - accuracy: 0.7520 - val_loss: 0.2635 - val_accuracy: 0.8778\n",
      "Epoch 2/38\n",
      "32/32 [==============================] - 8s 253ms/step - loss: 0.1523 - accuracy: 0.9414\n",
      "Epoch 3/38\n",
      "32/32 [==============================] - 8s 234ms/step - loss: 0.0479 - accuracy: 0.9863\n",
      "Epoch 4/38\n",
      "32/32 [==============================] - 7s 227ms/step - loss: 0.0239 - accuracy: 0.9941\n",
      "Epoch 5/38\n",
      "32/32 [==============================] - 7s 227ms/step - loss: 0.0096 - accuracy: 0.9980\n",
      "Epoch 6/38\n",
      "32/32 [==============================] - 7s 226ms/step - loss: 0.0110 - accuracy: 0.9980\n",
      "Epoch 7/38\n",
      "32/32 [==============================] - 7s 224ms/step - loss: 0.0077 - accuracy: 0.9971\n",
      "Epoch 8/38\n",
      "32/32 [==============================] - 8s 263ms/step - loss: 0.0219 - accuracy: 0.9922\n",
      "Epoch 9/38\n",
      "32/32 [==============================] - 8s 264ms/step - loss: 0.0054 - accuracy: 0.9980\n",
      "Epoch 10/38\n",
      "32/32 [==============================] - 8s 239ms/step - loss: 0.0028 - accuracy: 1.0000\n",
      "Epoch 11/38\n",
      "32/32 [==============================] - 8s 242ms/step - loss: 0.0027 - accuracy: 1.0000\n",
      "Epoch 12/38\n",
      "32/32 [==============================] - 8s 234ms/step - loss: 0.0102 - accuracy: 0.9961\n",
      "Epoch 13/38\n",
      "32/32 [==============================] - 7s 218ms/step - loss: 0.0045 - accuracy: 1.0000\n",
      "Epoch 14/38\n",
      "32/32 [==============================] - 8s 244ms/step - loss: 0.0015 - accuracy: 1.0000\n",
      "Epoch 15/38\n",
      "32/32 [==============================] - 7s 227ms/step - loss: 0.0016 - accuracy: 1.0000\n",
      "Epoch 16/38\n",
      "32/32 [==============================] - 9s 264ms/step - loss: 0.0044 - accuracy: 0.9980\n",
      "Epoch 17/38\n",
      "32/32 [==============================] - 7s 217ms/step - loss: 0.0078 - accuracy: 0.9971\n",
      "Epoch 18/38\n",
      "32/32 [==============================] - 8s 244ms/step - loss: 0.0032 - accuracy: 1.0000\n",
      "Epoch 19/38\n",
      "32/32 [==============================] - 8s 236ms/step - loss: 9.7461e-04 - accuracy: 1.0000\n",
      "Epoch 20/38\n",
      "32/32 [==============================] - 8s 237ms/step - loss: 0.0015 - accuracy: 0.9990\n",
      "Epoch 21/38\n",
      "32/32 [==============================] - 7s 219ms/step - loss: 0.0034 - accuracy: 0.9980\n",
      "Epoch 22/38\n",
      "32/32 [==============================] - 8s 240ms/step - loss: 0.0026 - accuracy: 0.9990\n",
      "Epoch 23/38\n",
      "32/32 [==============================] - 8s 236ms/step - loss: 0.0010 - accuracy: 1.0000\n",
      "Epoch 24/38\n",
      "32/32 [==============================] - 7s 215ms/step - loss: 0.0015 - accuracy: 0.9990\n",
      "Epoch 25/38\n",
      "32/32 [==============================] - 7s 216ms/step - loss: 8.8172e-04 - accuracy: 1.0000\n",
      "Epoch 26/38\n",
      "32/32 [==============================] - 8s 241ms/step - loss: 6.8819e-04 - accuracy: 1.0000\n",
      "Epoch 27/38\n",
      "32/32 [==============================] - 8s 236ms/step - loss: 0.0021 - accuracy: 0.9980\n",
      "Epoch 28/38\n",
      "32/32 [==============================] - 7s 215ms/step - loss: 9.9682e-04 - accuracy: 1.0000\n",
      "Epoch 29/38\n",
      "32/32 [==============================] - 8s 263ms/step - loss: 0.0012 - accuracy: 1.0000\n",
      "Epoch 30/38\n",
      "32/32 [==============================] - 7s 216ms/step - loss: 0.0037 - accuracy: 0.9980\n",
      "Epoch 31/38\n",
      "32/32 [==============================] - 7s 231ms/step - loss: 0.0010 - accuracy: 1.0000\n",
      "Epoch 32/38\n",
      "32/32 [==============================] - 8s 236ms/step - loss: 4.7584e-04 - accuracy: 1.0000\n",
      "Epoch 33/38\n",
      "32/32 [==============================] - 8s 237ms/step - loss: 3.0053e-04 - accuracy: 1.0000\n",
      "Epoch 34/38\n",
      "32/32 [==============================] - 8s 241ms/step - loss: 0.0012 - accuracy: 1.0000\n",
      "Epoch 35/38\n",
      "32/32 [==============================] - 8s 261ms/step - loss: 4.0758e-05 - accuracy: 1.0000\n",
      "Epoch 36/38\n",
      "32/32 [==============================] - 8s 238ms/step - loss: 8.1643e-04 - accuracy: 1.0000\n",
      "Epoch 37/38\n",
      "32/32 [==============================] - 8s 237ms/step - loss: 9.1785e-04 - accuracy: 1.0000\n",
      "Epoch 38/38\n",
      "32/32 [==============================] - 7s 213ms/step - loss: 2.3647e-04 - accuracy: 1.0000\n"
     ]
    },
    {
     "data": {
      "text/plain": [
       "<keras.src.callbacks.History at 0x7f0cd05af6d0>"
      ]
     },
     "execution_count": 10,
     "metadata": {},
     "output_type": "execute_result"
    }
   ],
   "source": [
    "# Training the Model\n",
    "model.fit(\n",
    "    train_generator,\n",
    "    steps_per_epoch=32,\n",
    "    epochs=38,\n",
    "    validation_data=test_generator,\n",
    "    validation_steps=32)"
   ]
  },
  {
   "cell_type": "code",
   "execution_count": 11,
   "id": "21414f5b",
   "metadata": {},
   "outputs": [
    {
     "name": "stderr",
     "output_type": "stream",
     "text": [
      "/home/codespace/.python/current/lib/python3.10/site-packages/keras/src/engine/training.py:3079: UserWarning: You are saving your model as an HDF5 file via `model.save()`. This file format is considered legacy. We recommend using instead the native Keras format, e.g. `model.save('my_model.keras')`.\n",
      "  saving_api.save_model(\n"
     ]
    }
   ],
   "source": [
    "# Saving the Model\n",
    "model.save('kidney_stone_detection_model.h5')"
   ]
  },
  {
   "cell_type": "code",
   "execution_count": 13,
   "id": "0e2314ee",
   "metadata": {},
   "outputs": [
    {
     "ename": "TclError",
     "evalue": "no display name and no $DISPLAY environment variable",
     "output_type": "error",
     "traceback": [
      "\u001b[0;31m---------------------------------------------------------------------------\u001b[0m",
      "\u001b[0;31mTclError\u001b[0m                                  Traceback (most recent call last)",
      "\u001b[1;32m/workspaces/PBL-PY/Kidney-Stone/Kidney_Stone_Detection.ipynb Cell 10\u001b[0m line \u001b[0;36m1\n\u001b[1;32m     <a href='vscode-notebook-cell://codespaces%2Bfriendly-space-goldfish-9r57vw579rx3p5j4/workspaces/PBL-PY/Kidney-Stone/Kidney_Stone_Detection.ipynb#X12sdnNjb2RlLXJlbW90ZQ%3D%3D?line=11'>12</a>\u001b[0m \u001b[39mimport\u001b[39;00m \u001b[39mos\u001b[39;00m\n\u001b[1;32m     <a href='vscode-notebook-cell://codespaces%2Bfriendly-space-goldfish-9r57vw579rx3p5j4/workspaces/PBL-PY/Kidney-Stone/Kidney_Stone_Detection.ipynb#X12sdnNjb2RlLXJlbW90ZQ%3D%3D?line=13'>14</a>\u001b[0m customtkinter\u001b[39m.\u001b[39mset_appearance_mode(\u001b[39m\"\u001b[39m\u001b[39mSystem\u001b[39m\u001b[39m\"\u001b[39m)\n\u001b[0;32m---> <a href='vscode-notebook-cell://codespaces%2Bfriendly-space-goldfish-9r57vw579rx3p5j4/workspaces/PBL-PY/Kidney-Stone/Kidney_Stone_Detection.ipynb#X12sdnNjb2RlLXJlbW90ZQ%3D%3D?line=14'>15</a>\u001b[0m root \u001b[39m=\u001b[39m customtkinter\u001b[39m.\u001b[39;49mCTk()\n\u001b[1;32m     <a href='vscode-notebook-cell://codespaces%2Bfriendly-space-goldfish-9r57vw579rx3p5j4/workspaces/PBL-PY/Kidney-Stone/Kidney_Stone_Detection.ipynb#X12sdnNjb2RlLXJlbW90ZQ%3D%3D?line=16'>17</a>\u001b[0m \u001b[39m#window size\u001b[39;00m\n\u001b[1;32m     <a href='vscode-notebook-cell://codespaces%2Bfriendly-space-goldfish-9r57vw579rx3p5j4/workspaces/PBL-PY/Kidney-Stone/Kidney_Stone_Detection.ipynb#X12sdnNjb2RlLXJlbW90ZQ%3D%3D?line=17'>18</a>\u001b[0m root\u001b[39m.\u001b[39mrowconfigure(\u001b[39m0\u001b[39m,weight\u001b[39m=\u001b[39m\u001b[39m1\u001b[39m)    \n",
      "File \u001b[0;32m~/.python/current/lib/python3.10/site-packages/customtkinter/windows/ctk_tk.py:40\u001b[0m, in \u001b[0;36mCTk.__init__\u001b[0;34m(self, fg_color, **kwargs)\u001b[0m\n\u001b[1;32m     37\u001b[0m \u001b[39mself\u001b[39m\u001b[39m.\u001b[39m_enable_macos_dark_title_bar()\n\u001b[1;32m     39\u001b[0m \u001b[39m# call init methods of super classes\u001b[39;00m\n\u001b[0;32m---> 40\u001b[0m CTK_PARENT_CLASS\u001b[39m.\u001b[39;49m\u001b[39m__init__\u001b[39;49m(\u001b[39mself\u001b[39;49m, \u001b[39m*\u001b[39;49m\u001b[39m*\u001b[39;49mpop_from_dict_by_set(kwargs, \u001b[39mself\u001b[39;49m\u001b[39m.\u001b[39;49m_valid_tk_constructor_arguments))\n\u001b[1;32m     41\u001b[0m CTkAppearanceModeBaseClass\u001b[39m.\u001b[39m\u001b[39m__init__\u001b[39m(\u001b[39mself\u001b[39m)\n\u001b[1;32m     42\u001b[0m CTkScalingBaseClass\u001b[39m.\u001b[39m\u001b[39m__init__\u001b[39m(\u001b[39mself\u001b[39m, scaling_type\u001b[39m=\u001b[39m\u001b[39m\"\u001b[39m\u001b[39mwindow\u001b[39m\u001b[39m\"\u001b[39m)\n",
      "File \u001b[0;32m~/.python/current/lib/python3.10/tkinter/__init__.py:2299\u001b[0m, in \u001b[0;36mTk.__init__\u001b[0;34m(self, screenName, baseName, className, useTk, sync, use)\u001b[0m\n\u001b[1;32m   2297\u001b[0m         baseName \u001b[39m=\u001b[39m baseName \u001b[39m+\u001b[39m ext\n\u001b[1;32m   2298\u001b[0m interactive \u001b[39m=\u001b[39m \u001b[39mFalse\u001b[39;00m\n\u001b[0;32m-> 2299\u001b[0m \u001b[39mself\u001b[39m\u001b[39m.\u001b[39mtk \u001b[39m=\u001b[39m _tkinter\u001b[39m.\u001b[39;49mcreate(screenName, baseName, className, interactive, wantobjects, useTk, sync, use)\n\u001b[1;32m   2300\u001b[0m \u001b[39mif\u001b[39;00m useTk:\n\u001b[1;32m   2301\u001b[0m     \u001b[39mself\u001b[39m\u001b[39m.\u001b[39m_loadtk()\n",
      "\u001b[0;31mTclError\u001b[0m: no display name and no $DISPLAY environment variable"
     ]
    }
   ],
   "source": [
    "# Creating the GUI\n",
    "from tkinter import *\n",
    "from PIL import Image, ImageTk\n",
    "import customtkinter\n",
    "import tkinter\n",
    "import tkinter as tk\n",
    "from tkinter import filedialog\n",
    "from tkinter.filedialog import askopenfilename\n",
    "from tkinter import messagebox\n",
    "import keras.utils as image\n",
    "import numpy as np\n",
    "import os\n",
    "\n",
    "customtkinter.set_appearance_mode(\"System\")\n",
    "root = customtkinter.CTk()\n",
    "\n",
    "#window size\n",
    "root.rowconfigure(0,weight=1)    \n",
    "root.columnconfigure(0,weight=1)\n",
    "\n",
    "root.geometry('420x380')\n",
    "root.title('Kidney Stone Detection')\n",
    "\n",
    "# Function to Select Image\n",
    "def browse_btn():\n",
    "    global image_name\n",
    "    \n",
    "    label_cnn.configure(text=\"\")\n",
    "    label.configure(text=\"\")\n",
    "    \n",
    "    image_name = askopenfilename(title='Select Image')\n",
    "    img = Image.open(image_name)\n",
    "    img = img.resize((200, 200), Image.ANTIALIAS)\n",
    "    img = ImageTk.PhotoImage(img)\n",
    "    panel = tk.Label(root, image=img)\n",
    "    panel.image = img\n",
    "    panel.grid(row=0,column=1,sticky='nw',padx=20,pady=28)\n",
    "\n",
    "# Function to Predict CNN\n",
    "def predict_btn_cnn():\n",
    "    global label_prediction\n",
    "    global image_name\n",
    "    test_img = image.load_img(image_name, target_size=(150, 150))\n",
    "    test_img = image.img_to_array(test_img)\n",
    "    test_img = np.expand_dims(test_img, axis=0)\n",
    "    result = model.predict(test_img)\n",
    "    if result[0][0] == 1:\n",
    "        label_cnn.configure(text=\"Kidney Stone Detected\")\n",
    "    elif result[0][0] == 0:\n",
    "        label_cnn.configure(text=\"No Kidney Stone Detected\")\n",
    "        \n",
    "#Function for Predict SVM        \n",
    "def predict_btn_svm():\n",
    "    global label_prediction\n",
    "    global image_name\n",
    "    test_img = cv2.imread(image_name)\n",
    "    #test_img = image.load_img(image_name, target_size=(150, 150))\n",
    "    #test_img = image.img_to_array(test_img)\n",
    "    feature_list_of_img = extract_features([test_img])\n",
    "    result = svm_load.predict(feature_list_of_img)    \n",
    "    #Displaying the output\n",
    "    if result[0] == 'Stone':\n",
    "        label.configure(text = \"Kidney Stone Detected\")\n",
    "    elif result[0] == 'Normal':\n",
    "        label.configure(text = \"No Kidney Stone Detected\")\n",
    "\n",
    "# Browse Button\n",
    "browsebtn = customtkinter.CTkButton(master=root, text=\"Browse Image\", command=browse_btn)\n",
    "browsebtn.grid(row=0, column=0,sticky='nw',padx=20,pady=20)\n",
    "\n",
    "\n",
    "# Predict Butoon CNN\n",
    "predictbtn = customtkinter.CTkButton(master=root, text=\"Predict CNN\", command=predict_btn_cnn)\n",
    "predictbtn.grid(row=1, column=0,sticky='nw',padx=20,pady=20)\n",
    "\n",
    "# Predict Butoon SVM\n",
    "predictbtnsvm = customtkinter.CTkButton(master=root, text=\"Predict SVM\", command=predict_btn_svm)\n",
    "predictbtnsvm.grid(row=2, column=0,sticky='nw',padx=20,pady=20)\n",
    "\n",
    "#Label Result CNN\n",
    "label_cnn = customtkinter.CTkLabel(root, text=\"\")\n",
    "label_cnn.grid(row=1,column=1,sticky='nw',padx=20,pady=20)\n",
    "\n",
    "#Label Result SVM\n",
    "label = customtkinter.CTkLabel(root, text=\"\")\n",
    "label.grid(row=2,column=1,sticky='nw',padx=20,pady=20)\n",
    "\n",
    "\n",
    "# Running the GUI\n",
    "root.mainloop()"
   ]
  },
  {
   "cell_type": "code",
   "execution_count": 2,
   "id": "93b3abd7",
   "metadata": {},
   "outputs": [],
   "source": [
    "from keras.models import load_model\n",
    "model = load_model('kidney_stone_detection_model.h5')"
   ]
  },
  {
   "cell_type": "code",
   "execution_count": 3,
   "id": "2ff385ec",
   "metadata": {},
   "outputs": [
    {
     "name": "stdout",
     "output_type": "stream",
     "text": [
      "Model: \"sequential_33\"\n",
      "_________________________________________________________________\n",
      " Layer (type)                Output Shape              Param #   \n",
      "=================================================================\n",
      " conv2d_64 (Conv2D)          (None, 148, 148, 32)      896       \n",
      "                                                                 \n",
      " activation_32 (Activation)  (None, 148, 148, 32)      0         \n",
      "                                                                 \n",
      " max_pooling2d_64 (MaxPoolin  (None, 74, 74, 32)       0         \n",
      " g2D)                                                            \n",
      "                                                                 \n",
      " conv2d_65 (Conv2D)          (None, 72, 72, 32)        9248      \n",
      "                                                                 \n",
      " activation_33 (Activation)  (None, 72, 72, 32)        0         \n",
      "                                                                 \n",
      " max_pooling2d_65 (MaxPoolin  (None, 36, 36, 32)       0         \n",
      " g2D)                                                            \n",
      "                                                                 \n",
      " flatten_32 (Flatten)        (None, 41472)             0         \n",
      "                                                                 \n",
      " dense_64 (Dense)            (None, 64)                2654272   \n",
      "                                                                 \n",
      " activation_34 (Activation)  (None, 64)                0         \n",
      "                                                                 \n",
      " dropout_78 (Dropout)        (None, 64)                0         \n",
      "                                                                 \n",
      " dense_65 (Dense)            (None, 1)                 65        \n",
      "                                                                 \n",
      " activation_35 (Activation)  (None, 1)                 0         \n",
      "                                                                 \n",
      "=================================================================\n",
      "Total params: 2,664,481\n",
      "Trainable params: 2,664,481\n",
      "Non-trainable params: 0\n",
      "_________________________________________________________________\n"
     ]
    }
   ],
   "source": [
    "model.summary()"
   ]
  },
  {
   "cell_type": "code",
   "execution_count": 14,
   "id": "79c71cef",
   "metadata": {},
   "outputs": [
    {
     "name": "stdout",
     "output_type": "stream",
     "text": [
      "1/1 [==============================] - 1s 841ms/step - loss: 6.4202e-06 - accuracy: 1.0000\n"
     ]
    },
    {
     "data": {
      "text/plain": [
       "[6.420249064831296e-06, 1.0]"
      ]
     },
     "execution_count": 14,
     "metadata": {},
     "output_type": "execute_result"
    }
   ],
   "source": [
    "model.evaluate(test_generator,steps=1)"
   ]
  },
  {
   "cell_type": "markdown",
   "id": "93fe5cc5",
   "metadata": {},
   "source": [
    "# SVM"
   ]
  },
  {
   "cell_type": "code",
   "execution_count": 18,
   "id": "45ae3d70",
   "metadata": {},
   "outputs": [
    {
     "ename": "ImportError",
     "evalue": "libGL.so.1: cannot open shared object file: No such file or directory",
     "output_type": "error",
     "traceback": [
      "\u001b[0;31m---------------------------------------------------------------------------\u001b[0m",
      "\u001b[0;31mImportError\u001b[0m                               Traceback (most recent call last)",
      "\u001b[1;32m/workspaces/PBL-PY/Kidney-Stone/Kidney_Stone_Detection.ipynb Cell 15\u001b[0m line \u001b[0;36m2\n\u001b[1;32m      <a href='vscode-notebook-cell://codespaces%2Bfriendly-space-goldfish-9r57vw579rx3p5j4/workspaces/PBL-PY/Kidney-Stone/Kidney_Stone_Detection.ipynb#X20sdnNjb2RlLXJlbW90ZQ%3D%3D?line=0'>1</a>\u001b[0m \u001b[39m#Importing the required Modules\u001b[39;00m\n\u001b[0;32m----> <a href='vscode-notebook-cell://codespaces%2Bfriendly-space-goldfish-9r57vw579rx3p5j4/workspaces/PBL-PY/Kidney-Stone/Kidney_Stone_Detection.ipynb#X20sdnNjb2RlLXJlbW90ZQ%3D%3D?line=1'>2</a>\u001b[0m \u001b[39mimport\u001b[39;00m \u001b[39mcv2\u001b[39;00m \n\u001b[1;32m      <a href='vscode-notebook-cell://codespaces%2Bfriendly-space-goldfish-9r57vw579rx3p5j4/workspaces/PBL-PY/Kidney-Stone/Kidney_Stone_Detection.ipynb#X20sdnNjb2RlLXJlbW90ZQ%3D%3D?line=2'>3</a>\u001b[0m \u001b[39mimport\u001b[39;00m \u001b[39mnumpy\u001b[39;00m \u001b[39mas\u001b[39;00m \u001b[39mnp\u001b[39;00m \n\u001b[1;32m      <a href='vscode-notebook-cell://codespaces%2Bfriendly-space-goldfish-9r57vw579rx3p5j4/workspaces/PBL-PY/Kidney-Stone/Kidney_Stone_Detection.ipynb#X20sdnNjb2RlLXJlbW90ZQ%3D%3D?line=3'>4</a>\u001b[0m \u001b[39mfrom\u001b[39;00m \u001b[39mskimage\u001b[39;00m\u001b[39m.\u001b[39;00m\u001b[39mfeature\u001b[39;00m \u001b[39mimport\u001b[39;00m hog \n",
      "\u001b[0;31mImportError\u001b[0m: libGL.so.1: cannot open shared object file: No such file or directory"
     ]
    }
   ],
   "source": [
    "#Importing the required Modules\n",
    "import cv2 \n",
    "import numpy as np \n",
    "from skimage.feature import hog \n",
    "from sklearn.svm import SVC\n",
    "from sklearn.metrics import accuracy_score \n",
    "import matplotlib.pyplot as plt \n",
    "from sklearn.model_selection import train_test_split \n",
    "from sklearn.metrics import confusion_matrix\n",
    "import os"
   ]
  },
  {
   "cell_type": "code",
   "execution_count": 16,
   "id": "761971dc",
   "metadata": {},
   "outputs": [],
   "source": [
    "#Defining a function to read images from the train and test folders\n",
    "def read_images(path):\n",
    "    images_list = []\n",
    "    for filename in os.listdir(path):\n",
    "        img = cv2.imread(os.path.join(path,filename))\n",
    "        if img is not None:\n",
    "            images_list.append(img)\n",
    "    return images_list"
   ]
  },
  {
   "cell_type": "code",
   "execution_count": 17,
   "id": "118411cf",
   "metadata": {},
   "outputs": [
    {
     "ename": "NameError",
     "evalue": "name 'cv2' is not defined",
     "output_type": "error",
     "traceback": [
      "\u001b[0;31m---------------------------------------------------------------------------\u001b[0m",
      "\u001b[0;31mNameError\u001b[0m                                 Traceback (most recent call last)",
      "\u001b[1;32m/workspaces/PBL-PY/Kidney-Stone/Kidney_Stone_Detection.ipynb Cell 17\u001b[0m line \u001b[0;36m2\n\u001b[1;32m      <a href='vscode-notebook-cell://codespaces%2Bfriendly-space-goldfish-9r57vw579rx3p5j4/workspaces/PBL-PY/Kidney-Stone/Kidney_Stone_Detection.ipynb#X22sdnNjb2RlLXJlbW90ZQ%3D%3D?line=0'>1</a>\u001b[0m \u001b[39m#Reading train images from the normal and stone folders\u001b[39;00m\n\u001b[0;32m----> <a href='vscode-notebook-cell://codespaces%2Bfriendly-space-goldfish-9r57vw579rx3p5j4/workspaces/PBL-PY/Kidney-Stone/Kidney_Stone_Detection.ipynb#X22sdnNjb2RlLXJlbW90ZQ%3D%3D?line=1'>2</a>\u001b[0m train_normal \u001b[39m=\u001b[39m read_images(\u001b[39m'\u001b[39;49m\u001b[39mCT_images/Train/Normal\u001b[39;49m\u001b[39m'\u001b[39;49m)\n\u001b[1;32m      <a href='vscode-notebook-cell://codespaces%2Bfriendly-space-goldfish-9r57vw579rx3p5j4/workspaces/PBL-PY/Kidney-Stone/Kidney_Stone_Detection.ipynb#X22sdnNjb2RlLXJlbW90ZQ%3D%3D?line=2'>3</a>\u001b[0m train_stone \u001b[39m=\u001b[39m read_images(\u001b[39m'\u001b[39m\u001b[39mCT_images/Train/Stone\u001b[39m\u001b[39m'\u001b[39m)\n",
      "\u001b[1;32m/workspaces/PBL-PY/Kidney-Stone/Kidney_Stone_Detection.ipynb Cell 17\u001b[0m line \u001b[0;36m5\n\u001b[1;32m      <a href='vscode-notebook-cell://codespaces%2Bfriendly-space-goldfish-9r57vw579rx3p5j4/workspaces/PBL-PY/Kidney-Stone/Kidney_Stone_Detection.ipynb#X22sdnNjb2RlLXJlbW90ZQ%3D%3D?line=2'>3</a>\u001b[0m images_list \u001b[39m=\u001b[39m []\n\u001b[1;32m      <a href='vscode-notebook-cell://codespaces%2Bfriendly-space-goldfish-9r57vw579rx3p5j4/workspaces/PBL-PY/Kidney-Stone/Kidney_Stone_Detection.ipynb#X22sdnNjb2RlLXJlbW90ZQ%3D%3D?line=3'>4</a>\u001b[0m \u001b[39mfor\u001b[39;00m filename \u001b[39min\u001b[39;00m os\u001b[39m.\u001b[39mlistdir(path):\n\u001b[0;32m----> <a href='vscode-notebook-cell://codespaces%2Bfriendly-space-goldfish-9r57vw579rx3p5j4/workspaces/PBL-PY/Kidney-Stone/Kidney_Stone_Detection.ipynb#X22sdnNjb2RlLXJlbW90ZQ%3D%3D?line=4'>5</a>\u001b[0m     img \u001b[39m=\u001b[39m cv2\u001b[39m.\u001b[39mimread(os\u001b[39m.\u001b[39mpath\u001b[39m.\u001b[39mjoin(path,filename))\n\u001b[1;32m      <a href='vscode-notebook-cell://codespaces%2Bfriendly-space-goldfish-9r57vw579rx3p5j4/workspaces/PBL-PY/Kidney-Stone/Kidney_Stone_Detection.ipynb#X22sdnNjb2RlLXJlbW90ZQ%3D%3D?line=5'>6</a>\u001b[0m     \u001b[39mif\u001b[39;00m img \u001b[39mis\u001b[39;00m \u001b[39mnot\u001b[39;00m \u001b[39mNone\u001b[39;00m:\n\u001b[1;32m      <a href='vscode-notebook-cell://codespaces%2Bfriendly-space-goldfish-9r57vw579rx3p5j4/workspaces/PBL-PY/Kidney-Stone/Kidney_Stone_Detection.ipynb#X22sdnNjb2RlLXJlbW90ZQ%3D%3D?line=6'>7</a>\u001b[0m         images_list\u001b[39m.\u001b[39mappend(img)\n",
      "\u001b[0;31mNameError\u001b[0m: name 'cv2' is not defined"
     ]
    }
   ],
   "source": [
    "#Reading train images from the normal and stone folders\n",
    "train_normal = read_images('CT_images/Train/Normal')\n",
    "train_stone = read_images('CT_images/Train/Stone')"
   ]
  },
  {
   "cell_type": "code",
   "execution_count": 14,
   "id": "aa41bcd3",
   "metadata": {},
   "outputs": [],
   "source": [
    "#Creating a list of labels for training \n",
    "labels = ['Normal' for item in train_normal] + ['Stone' for item in train_stone]"
   ]
  },
  {
   "cell_type": "code",
   "execution_count": 15,
   "id": "6abe13d9",
   "metadata": {},
   "outputs": [],
   "source": [
    "#Defining a function for HOG feature extraction\n",
    "def extract_features(images):\n",
    "    feature_list = []\n",
    "    for img in images:\n",
    "        fd, hog_image = hog(img, orientations=8, pixels_per_cell=(16, 16), \n",
    "                            cells_per_block=(1, 1), visualize=True, channel_axis=2)\n",
    "        # Resize the HOG features to a fixed size\n",
    "        fd = np.resize(fd, (2400, 1))\n",
    "        # Flatten the array to 2 dimensions\n",
    "        fd = fd.flatten()\n",
    "        feature_list.append(fd)\n",
    "    return feature_list"
   ]
  },
  {
   "cell_type": "code",
   "execution_count": 16,
   "id": "f54dfc42",
   "metadata": {},
   "outputs": [
    {
     "ename": "KeyboardInterrupt",
     "evalue": "",
     "output_type": "error",
     "traceback": [
      "\u001b[1;31m---------------------------------------------------------------------------\u001b[0m",
      "\u001b[1;31mKeyboardInterrupt\u001b[0m                         Traceback (most recent call last)",
      "\u001b[1;32md:\\Documents\\Kidney-Stone-Detection\\Kidney_Stone_Detection.ipynb Cell 20\u001b[0m line \u001b[0;36m2\n\u001b[0;32m      <a href='vscode-notebook-cell:/d%3A/Documents/Kidney-Stone-Detection/Kidney_Stone_Detection.ipynb#X25sZmlsZQ%3D%3D?line=0'>1</a>\u001b[0m \u001b[39m#Extracting the HOG features from both normal and stone images\u001b[39;00m\n\u001b[1;32m----> <a href='vscode-notebook-cell:/d%3A/Documents/Kidney-Stone-Detection/Kidney_Stone_Detection.ipynb#X25sZmlsZQ%3D%3D?line=1'>2</a>\u001b[0m feature_list_normal \u001b[39m=\u001b[39m extract_features(train_normal)\n\u001b[0;32m      <a href='vscode-notebook-cell:/d%3A/Documents/Kidney-Stone-Detection/Kidney_Stone_Detection.ipynb#X25sZmlsZQ%3D%3D?line=2'>3</a>\u001b[0m feature_list_stone \u001b[39m=\u001b[39m extract_features(train_stone)\n",
      "\u001b[1;32md:\\Documents\\Kidney-Stone-Detection\\Kidney_Stone_Detection.ipynb Cell 20\u001b[0m line \u001b[0;36m5\n\u001b[0;32m      <a href='vscode-notebook-cell:/d%3A/Documents/Kidney-Stone-Detection/Kidney_Stone_Detection.ipynb#X25sZmlsZQ%3D%3D?line=2'>3</a>\u001b[0m feature_list \u001b[39m=\u001b[39m []\n\u001b[0;32m      <a href='vscode-notebook-cell:/d%3A/Documents/Kidney-Stone-Detection/Kidney_Stone_Detection.ipynb#X25sZmlsZQ%3D%3D?line=3'>4</a>\u001b[0m \u001b[39mfor\u001b[39;00m img \u001b[39min\u001b[39;00m images:\n\u001b[1;32m----> <a href='vscode-notebook-cell:/d%3A/Documents/Kidney-Stone-Detection/Kidney_Stone_Detection.ipynb#X25sZmlsZQ%3D%3D?line=4'>5</a>\u001b[0m     fd, hog_image \u001b[39m=\u001b[39m hog(img, orientations\u001b[39m=\u001b[39;49m\u001b[39m8\u001b[39;49m, pixels_per_cell\u001b[39m=\u001b[39;49m(\u001b[39m16\u001b[39;49m, \u001b[39m16\u001b[39;49m), \n\u001b[0;32m      <a href='vscode-notebook-cell:/d%3A/Documents/Kidney-Stone-Detection/Kidney_Stone_Detection.ipynb#X25sZmlsZQ%3D%3D?line=5'>6</a>\u001b[0m                         cells_per_block\u001b[39m=\u001b[39;49m(\u001b[39m1\u001b[39;49m, \u001b[39m1\u001b[39;49m), visualize\u001b[39m=\u001b[39;49m\u001b[39mTrue\u001b[39;49;00m, channel_axis\u001b[39m=\u001b[39;49m\u001b[39m2\u001b[39;49m)\n\u001b[0;32m      <a href='vscode-notebook-cell:/d%3A/Documents/Kidney-Stone-Detection/Kidney_Stone_Detection.ipynb#X25sZmlsZQ%3D%3D?line=6'>7</a>\u001b[0m     \u001b[39m# Resize the HOG features to a fixed size\u001b[39;00m\n\u001b[0;32m      <a href='vscode-notebook-cell:/d%3A/Documents/Kidney-Stone-Detection/Kidney_Stone_Detection.ipynb#X25sZmlsZQ%3D%3D?line=7'>8</a>\u001b[0m     fd \u001b[39m=\u001b[39m np\u001b[39m.\u001b[39mresize(fd, (\u001b[39m2400\u001b[39m, \u001b[39m1\u001b[39m))\n",
      "File \u001b[1;32mc:\\Users\\Just Windows\\AppData\\Local\\Programs\\Python\\Python39\\lib\\site-packages\\skimage\\_shared\\utils.py:349\u001b[0m, in \u001b[0;36mchannel_as_last_axis.__call__.<locals>.fixed_func\u001b[1;34m(*args, **kwargs)\u001b[0m\n\u001b[0;32m    346\u001b[0m kwargs[\u001b[39m\"\u001b[39m\u001b[39mchannel_axis\u001b[39m\u001b[39m\"\u001b[39m] \u001b[39m=\u001b[39m \u001b[39m-\u001b[39m\u001b[39m1\u001b[39m\n\u001b[0;32m    348\u001b[0m \u001b[39m# Call the function with the fixed arguments\u001b[39;00m\n\u001b[1;32m--> 349\u001b[0m out \u001b[39m=\u001b[39m func(\u001b[39m*\u001b[39mnew_args, \u001b[39m*\u001b[39m\u001b[39m*\u001b[39mkwargs)\n\u001b[0;32m    350\u001b[0m \u001b[39mif\u001b[39;00m \u001b[39mself\u001b[39m\u001b[39m.\u001b[39mmultichannel_output:\n\u001b[0;32m    351\u001b[0m     out \u001b[39m=\u001b[39m np\u001b[39m.\u001b[39mmoveaxis(out, \u001b[39m-\u001b[39m\u001b[39m1\u001b[39m, channel_axis[\u001b[39m0\u001b[39m])\n",
      "File \u001b[1;32mc:\\Users\\Just Windows\\AppData\\Local\\Programs\\Python\\Python39\\lib\\site-packages\\skimage\\feature\\_hog.py:260\u001b[0m, in \u001b[0;36mhog\u001b[1;34m(image, orientations, pixels_per_cell, cells_per_block, block_norm, visualize, transform_sqrt, feature_vector, channel_axis)\u001b[0m\n\u001b[0;32m    254\u001b[0m                 centre \u001b[39m=\u001b[39m \u001b[39mtuple\u001b[39m([r \u001b[39m*\u001b[39m c_row \u001b[39m+\u001b[39m c_row \u001b[39m/\u001b[39m\u001b[39m/\u001b[39m \u001b[39m2\u001b[39m,\n\u001b[0;32m    255\u001b[0m                                 c \u001b[39m*\u001b[39m c_col \u001b[39m+\u001b[39m c_col \u001b[39m/\u001b[39m\u001b[39m/\u001b[39m \u001b[39m2\u001b[39m])\n\u001b[0;32m    256\u001b[0m                 rr, cc \u001b[39m=\u001b[39m draw\u001b[39m.\u001b[39mline(\u001b[39mint\u001b[39m(centre[\u001b[39m0\u001b[39m] \u001b[39m-\u001b[39m dc),\n\u001b[0;32m    257\u001b[0m                                    \u001b[39mint\u001b[39m(centre[\u001b[39m1\u001b[39m] \u001b[39m+\u001b[39m dr),\n\u001b[0;32m    258\u001b[0m                                    \u001b[39mint\u001b[39m(centre[\u001b[39m0\u001b[39m] \u001b[39m+\u001b[39m dc),\n\u001b[0;32m    259\u001b[0m                                    \u001b[39mint\u001b[39m(centre[\u001b[39m1\u001b[39m] \u001b[39m-\u001b[39m dr))\n\u001b[1;32m--> 260\u001b[0m                 hog_image[rr, cc] \u001b[39m+\u001b[39m\u001b[39m=\u001b[39m orientation_histogram[r, c, o]\n\u001b[0;32m    262\u001b[0m \u001b[39m\u001b[39m\u001b[39m\"\"\"\u001b[39;00m\n\u001b[0;32m    263\u001b[0m \u001b[39mThe fourth stage computes normalization, which takes local groups of\u001b[39;00m\n\u001b[0;32m    264\u001b[0m \u001b[39mcells and contrast normalizes their overall responses before passing\u001b[39;00m\n\u001b[1;32m   (...)\u001b[0m\n\u001b[0;32m    274\u001b[0m \u001b[39mGradient (HOG) descriptors.\u001b[39;00m\n\u001b[0;32m    275\u001b[0m \u001b[39m\"\"\"\u001b[39;00m\n\u001b[0;32m    277\u001b[0m n_blocks_row \u001b[39m=\u001b[39m (n_cells_row \u001b[39m-\u001b[39m b_row) \u001b[39m+\u001b[39m \u001b[39m1\u001b[39m\n",
      "\u001b[1;31mKeyboardInterrupt\u001b[0m: "
     ]
    }
   ],
   "source": [
    "#Extracting the HOG features from both normal and stone images\n",
    "feature_list_normal = extract_features(train_normal)\n",
    "feature_list_stone = extract_features(train_stone)"
   ]
  },
  {
   "cell_type": "code",
   "execution_count": 21,
   "id": "b2c27a8a",
   "metadata": {},
   "outputs": [
    {
     "name": "stdout",
     "output_type": "stream",
     "text": [
      "2000\n",
      "1000\n"
     ]
    }
   ],
   "source": [
    "print(len(feature_list_normal))\n",
    "print(len(feature_list_stone))"
   ]
  },
  {
   "cell_type": "code",
   "execution_count": 22,
   "id": "8b2b190c",
   "metadata": {},
   "outputs": [],
   "source": [
    "#Combining the features for both classes\n",
    "features = feature_list_normal + feature_list_stone"
   ]
  },
  {
   "cell_type": "code",
   "execution_count": 23,
   "id": "af3c553f",
   "metadata": {},
   "outputs": [],
   "source": [
    "#Reading test images from the normal and stone folders\n",
    "test_normal = read_images('CT_images/Test/Normal')\n",
    "test_stone = read_images('CT_images/Test/Stone')"
   ]
  },
  {
   "cell_type": "code",
   "execution_count": 24,
   "id": "43387cb3",
   "metadata": {},
   "outputs": [],
   "source": [
    "#Creating a list of labels for testing \n",
    "test_labels = ['Normal' for item in test_normal] + ['Stone' for item in test_stone]"
   ]
  },
  {
   "cell_type": "code",
   "execution_count": 25,
   "id": "ce51341c",
   "metadata": {},
   "outputs": [],
   "source": [
    "#Creating a Feature Vector for Test Set\n",
    "test_feature_list_normal = extract_features(test_normal)\n",
    "test_feature_list_stone = extract_features(test_stone)"
   ]
  },
  {
   "cell_type": "code",
   "execution_count": 26,
   "id": "ce8f22da",
   "metadata": {},
   "outputs": [
    {
     "name": "stdout",
     "output_type": "stream",
     "text": [
      "600\n",
      "300\n"
     ]
    }
   ],
   "source": [
    "print(len(test_feature_list_normal))\n",
    "print(len(test_feature_list_stone))"
   ]
  },
  {
   "cell_type": "code",
   "execution_count": 27,
   "id": "13fe4306",
   "metadata": {},
   "outputs": [],
   "source": [
    "#Combining the features for both classes\n",
    "test_features = test_feature_list_normal + test_feature_list_stone"
   ]
  },
  {
   "cell_type": "code",
   "execution_count": 28,
   "id": "e9bd6770",
   "metadata": {},
   "outputs": [],
   "source": [
    "#Splitting the data into train and valid sets\n",
    "X_train, X_valid, y_train, y_valid = train_test_split(features, labels, test_size=0.2, random_state=0)"
   ]
  },
  {
   "cell_type": "code",
   "execution_count": 29,
   "id": "b863d8d7",
   "metadata": {},
   "outputs": [
    {
     "name": "stdout",
     "output_type": "stream",
     "text": [
      "(2400,)\n",
      "(2400,)\n",
      "(2400,)\n"
     ]
    }
   ],
   "source": [
    "# Print the shape of the first element in the X_train array\n",
    "print(X_train[0].shape)\n",
    "\n",
    "# Print the shape of the second element in the X_train array\n",
    "print(X_train[1].shape)\n",
    "\n",
    "# Print the shape of the last element in the X_train array\n",
    "print(X_train[-1].shape)"
   ]
  },
  {
   "cell_type": "code",
   "execution_count": 30,
   "id": "de1212b8",
   "metadata": {},
   "outputs": [
    {
     "data": {
      "text/plain": [
       "SVC(C=1, gamma='auto')"
      ]
     },
     "execution_count": 30,
     "metadata": {},
     "output_type": "execute_result"
    }
   ],
   "source": [
    "# Training a SVM Model\n",
    "svc = SVC(kernel='rbf', C=1, gamma='auto')\n",
    "svc.fit(X_train, y_train)"
   ]
  },
  {
   "cell_type": "code",
   "execution_count": 31,
   "id": "1465f7b8",
   "metadata": {},
   "outputs": [],
   "source": [
    "# Predicting the Test Set\n",
    "y_pred = svc.predict(X_valid)"
   ]
  },
  {
   "cell_type": "code",
   "execution_count": 32,
   "id": "bbbf0973",
   "metadata": {},
   "outputs": [
    {
     "name": "stdout",
     "output_type": "stream",
     "text": [
      "Accuracy :  0.7966666666666666\n"
     ]
    }
   ],
   "source": [
    "#Calculating the accuracy\n",
    "accuracy = accuracy_score(y_valid, y_pred)\n",
    "print(\"Accuracy : \", accuracy)"
   ]
  },
  {
   "cell_type": "code",
   "execution_count": 34,
   "id": "3ee1a7f8",
   "metadata": {},
   "outputs": [
    {
     "data": {
      "text/plain": [
       "['svc.pkl']"
      ]
     },
     "execution_count": 34,
     "metadata": {},
     "output_type": "execute_result"
    }
   ],
   "source": [
    "import sklearn.externals\n",
    "import joblib\n",
    "\n",
    "# Save the model to a file\n",
    "joblib.dump(svc, 'svc.pkl')"
   ]
  },
  {
   "cell_type": "code",
   "execution_count": 5,
   "id": "bd0483c2",
   "metadata": {},
   "outputs": [],
   "source": [
    "import sklearn.externals\n",
    "import joblib\n",
    "svm_load = joblib.load(\"svc.pkl\") "
   ]
  },
  {
   "cell_type": "code",
   "execution_count": null,
   "id": "b0c4f197",
   "metadata": {},
   "outputs": [],
   "source": []
  }
 ],
 "metadata": {
  "kernelspec": {
   "display_name": "Python 3 (ipykernel)",
   "language": "python",
   "name": "python3"
  },
  "language_info": {
   "codemirror_mode": {
    "name": "ipython",
    "version": 3
   },
   "file_extension": ".py",
   "mimetype": "text/x-python",
   "name": "python",
   "nbconvert_exporter": "python",
   "pygments_lexer": "ipython3",
   "version": "3.10.8"
  }
 },
 "nbformat": 4,
 "nbformat_minor": 5
}
